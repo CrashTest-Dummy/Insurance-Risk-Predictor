{
 "cells": [
  {
   "cell_type": "markdown",
   "id": "08d8d436",
   "metadata": {},
   "source": [
    "# Insurance Risk Predictor\n",
    "A machine learning (ML) system to predict the likelihood that a potential car insurance customer will later make an insurance claim. The proposed system can be used to better identified qualified customers and aid in premium pricing. \n",
    "    "
   ]
  },
  {
   "cell_type": "markdown",
   "id": "c5e87738",
   "metadata": {},
   "source": [
    "### Table of Contents (with links):"
   ]
  },
  {
   "cell_type": "markdown",
   "id": "90793e26",
   "metadata": {},
   "source": [
    "### [Import Libraries](#import_libraries)\n",
    "### [Import Dataset](#import_dataset)\n",
    "### [Clean Up the Data](#clean_data)\n",
    "### [Remove Unnecessary Columns](#remove_columns)\n",
    "### [Remove Incomplete Rows](#remove_rows)\n",
    "### [Show Updated Dataframe](#show_dataframe)\n",
    "### [Data Visualization](#data_visualization)\n",
    "### [Identify Features and Build ML Algorithm](#identify_features)\n",
    "### [Evaluate Accuracy of Model](#evaluate_accuracy)\n",
    "### [Build User Interface](#build_UI)\n",
    "### [Interactable User Interface](#show_UI)\n"
   ]
  },
  {
   "cell_type": "markdown",
   "id": "7abff318",
   "metadata": {},
   "source": [
    "### Import Libraries \n",
    "<a id='import_libraries'></a>"
   ]
  },
  {
   "cell_type": "code",
   "execution_count": 1,
   "id": "57e592c0",
   "metadata": {},
   "outputs": [],
   "source": [
    "%matplotlib inline \n",
    "import matplotlib.pyplot as plt\n",
    "import pandas as pd\n",
    "import numpy as np\n",
    "import warnings\n",
    "import ipywidgets as widgets\n",
    "import seaborn as sns\n",
    "\n",
    "from ipywidgets import interact, interact_manual, fixed, Label, Layout\n",
    "from IPython.display import display"
   ]
  },
  {
   "cell_type": "markdown",
   "id": "4145bf04",
   "metadata": {},
   "source": [
    "### Import the dataset (CSV) and convert it to a pandas dataframe\n",
    "<a id='import_dataset'></a>"
   ]
  },
  {
   "cell_type": "code",
   "execution_count": 2,
   "id": "94382c41",
   "metadata": {},
   "outputs": [
    {
     "data": {
      "text/html": [
       "<div>\n",
       "<style scoped>\n",
       "    .dataframe tbody tr th:only-of-type {\n",
       "        vertical-align: middle;\n",
       "    }\n",
       "\n",
       "    .dataframe tbody tr th {\n",
       "        vertical-align: top;\n",
       "    }\n",
       "\n",
       "    .dataframe thead th {\n",
       "        text-align: right;\n",
       "    }\n",
       "</style>\n",
       "<table border=\"1\" class=\"dataframe\">\n",
       "  <thead>\n",
       "    <tr style=\"text-align: right;\">\n",
       "      <th></th>\n",
       "      <th>ID</th>\n",
       "      <th>AGE</th>\n",
       "      <th>GENDER</th>\n",
       "      <th>RACE</th>\n",
       "      <th>DRIVING_EXPERIENCE</th>\n",
       "      <th>EDUCATION</th>\n",
       "      <th>INCOME</th>\n",
       "      <th>CREDIT_SCORE</th>\n",
       "      <th>VEHICLE_OWNERSHIP</th>\n",
       "      <th>VEHICLE_YEAR</th>\n",
       "      <th>MARRIED</th>\n",
       "      <th>CHILDREN</th>\n",
       "      <th>POSTAL_CODE</th>\n",
       "      <th>ANNUAL_MILEAGE</th>\n",
       "      <th>VEHICLE_TYPE</th>\n",
       "      <th>SPEEDING_VIOLATIONS</th>\n",
       "      <th>DUIS</th>\n",
       "      <th>PAST_ACCIDENTS</th>\n",
       "      <th>OUTCOME</th>\n",
       "    </tr>\n",
       "  </thead>\n",
       "  <tbody>\n",
       "    <tr>\n",
       "      <th>0</th>\n",
       "      <td>198079</td>\n",
       "      <td>65+</td>\n",
       "      <td>male</td>\n",
       "      <td>majority</td>\n",
       "      <td>30y+</td>\n",
       "      <td>university</td>\n",
       "      <td>upper class</td>\n",
       "      <td>0.570121</td>\n",
       "      <td>1</td>\n",
       "      <td>before 2015</td>\n",
       "      <td>1</td>\n",
       "      <td>1</td>\n",
       "      <td>32765</td>\n",
       "      <td>5000.0</td>\n",
       "      <td>sedan</td>\n",
       "      <td>22</td>\n",
       "      <td>0</td>\n",
       "      <td>6</td>\n",
       "      <td>1</td>\n",
       "    </tr>\n",
       "    <tr>\n",
       "      <th>1</th>\n",
       "      <td>588867</td>\n",
       "      <td>65+</td>\n",
       "      <td>male</td>\n",
       "      <td>majority</td>\n",
       "      <td>30y+</td>\n",
       "      <td>university</td>\n",
       "      <td>upper class</td>\n",
       "      <td>0.569639</td>\n",
       "      <td>1</td>\n",
       "      <td>before 2015</td>\n",
       "      <td>1</td>\n",
       "      <td>0</td>\n",
       "      <td>32765</td>\n",
       "      <td>NaN</td>\n",
       "      <td>sedan</td>\n",
       "      <td>19</td>\n",
       "      <td>0</td>\n",
       "      <td>2</td>\n",
       "      <td>1</td>\n",
       "    </tr>\n",
       "    <tr>\n",
       "      <th>2</th>\n",
       "      <td>126494</td>\n",
       "      <td>65+</td>\n",
       "      <td>male</td>\n",
       "      <td>majority</td>\n",
       "      <td>30y+</td>\n",
       "      <td>university</td>\n",
       "      <td>upper class</td>\n",
       "      <td>0.448258</td>\n",
       "      <td>1</td>\n",
       "      <td>after 2015</td>\n",
       "      <td>0</td>\n",
       "      <td>1</td>\n",
       "      <td>32765</td>\n",
       "      <td>9000.0</td>\n",
       "      <td>sports car</td>\n",
       "      <td>19</td>\n",
       "      <td>1</td>\n",
       "      <td>0</td>\n",
       "      <td>1</td>\n",
       "    </tr>\n",
       "    <tr>\n",
       "      <th>3</th>\n",
       "      <td>519204</td>\n",
       "      <td>65+</td>\n",
       "      <td>male</td>\n",
       "      <td>majority</td>\n",
       "      <td>30y+</td>\n",
       "      <td>high school</td>\n",
       "      <td>middle class</td>\n",
       "      <td>0.373548</td>\n",
       "      <td>1</td>\n",
       "      <td>before 2015</td>\n",
       "      <td>1</td>\n",
       "      <td>1</td>\n",
       "      <td>32765</td>\n",
       "      <td>4000.0</td>\n",
       "      <td>sedan</td>\n",
       "      <td>18</td>\n",
       "      <td>0</td>\n",
       "      <td>9</td>\n",
       "      <td>1</td>\n",
       "    </tr>\n",
       "    <tr>\n",
       "      <th>4</th>\n",
       "      <td>272776</td>\n",
       "      <td>65+</td>\n",
       "      <td>male</td>\n",
       "      <td>majority</td>\n",
       "      <td>30y+</td>\n",
       "      <td>high school</td>\n",
       "      <td>upper class</td>\n",
       "      <td>0.558587</td>\n",
       "      <td>1</td>\n",
       "      <td>before 2015</td>\n",
       "      <td>1</td>\n",
       "      <td>1</td>\n",
       "      <td>32765</td>\n",
       "      <td>NaN</td>\n",
       "      <td>sedan</td>\n",
       "      <td>17</td>\n",
       "      <td>0</td>\n",
       "      <td>3</td>\n",
       "      <td>1</td>\n",
       "    </tr>\n",
       "    <tr>\n",
       "      <th>...</th>\n",
       "      <td>...</td>\n",
       "      <td>...</td>\n",
       "      <td>...</td>\n",
       "      <td>...</td>\n",
       "      <td>...</td>\n",
       "      <td>...</td>\n",
       "      <td>...</td>\n",
       "      <td>...</td>\n",
       "      <td>...</td>\n",
       "      <td>...</td>\n",
       "      <td>...</td>\n",
       "      <td>...</td>\n",
       "      <td>...</td>\n",
       "      <td>...</td>\n",
       "      <td>...</td>\n",
       "      <td>...</td>\n",
       "      <td>...</td>\n",
       "      <td>...</td>\n",
       "      <td>...</td>\n",
       "    </tr>\n",
       "    <tr>\n",
       "      <th>9995</th>\n",
       "      <td>366048</td>\n",
       "      <td>26-39</td>\n",
       "      <td>male</td>\n",
       "      <td>majority</td>\n",
       "      <td>0-9y</td>\n",
       "      <td>high school</td>\n",
       "      <td>working class</td>\n",
       "      <td>NaN</td>\n",
       "      <td>1</td>\n",
       "      <td>before 2015</td>\n",
       "      <td>0</td>\n",
       "      <td>1</td>\n",
       "      <td>10238</td>\n",
       "      <td>11000.0</td>\n",
       "      <td>sedan</td>\n",
       "      <td>0</td>\n",
       "      <td>0</td>\n",
       "      <td>0</td>\n",
       "      <td>0</td>\n",
       "    </tr>\n",
       "    <tr>\n",
       "      <th>9996</th>\n",
       "      <td>595418</td>\n",
       "      <td>16-25</td>\n",
       "      <td>male</td>\n",
       "      <td>minority</td>\n",
       "      <td>0-9y</td>\n",
       "      <td>high school</td>\n",
       "      <td>working class</td>\n",
       "      <td>NaN</td>\n",
       "      <td>1</td>\n",
       "      <td>before 2015</td>\n",
       "      <td>0</td>\n",
       "      <td>1</td>\n",
       "      <td>10238</td>\n",
       "      <td>11000.0</td>\n",
       "      <td>sedan</td>\n",
       "      <td>0</td>\n",
       "      <td>0</td>\n",
       "      <td>0</td>\n",
       "      <td>0</td>\n",
       "    </tr>\n",
       "    <tr>\n",
       "      <th>9997</th>\n",
       "      <td>302403</td>\n",
       "      <td>16-25</td>\n",
       "      <td>female</td>\n",
       "      <td>majority</td>\n",
       "      <td>0-9y</td>\n",
       "      <td>high school</td>\n",
       "      <td>working class</td>\n",
       "      <td>0.502120</td>\n",
       "      <td>1</td>\n",
       "      <td>before 2015</td>\n",
       "      <td>0</td>\n",
       "      <td>1</td>\n",
       "      <td>32765</td>\n",
       "      <td>10000.0</td>\n",
       "      <td>sedan</td>\n",
       "      <td>0</td>\n",
       "      <td>0</td>\n",
       "      <td>0</td>\n",
       "      <td>1</td>\n",
       "    </tr>\n",
       "    <tr>\n",
       "      <th>9998</th>\n",
       "      <td>468409</td>\n",
       "      <td>26-39</td>\n",
       "      <td>male</td>\n",
       "      <td>majority</td>\n",
       "      <td>0-9y</td>\n",
       "      <td>high school</td>\n",
       "      <td>middle class</td>\n",
       "      <td>0.470940</td>\n",
       "      <td>1</td>\n",
       "      <td>before 2015</td>\n",
       "      <td>0</td>\n",
       "      <td>1</td>\n",
       "      <td>10238</td>\n",
       "      <td>14000.0</td>\n",
       "      <td>sedan</td>\n",
       "      <td>0</td>\n",
       "      <td>0</td>\n",
       "      <td>0</td>\n",
       "      <td>0</td>\n",
       "    </tr>\n",
       "    <tr>\n",
       "      <th>9999</th>\n",
       "      <td>442696</td>\n",
       "      <td>26-39</td>\n",
       "      <td>female</td>\n",
       "      <td>majority</td>\n",
       "      <td>0-9y</td>\n",
       "      <td>none</td>\n",
       "      <td>working class</td>\n",
       "      <td>0.435225</td>\n",
       "      <td>1</td>\n",
       "      <td>before 2015</td>\n",
       "      <td>1</td>\n",
       "      <td>1</td>\n",
       "      <td>10238</td>\n",
       "      <td>13000.0</td>\n",
       "      <td>sedan</td>\n",
       "      <td>0</td>\n",
       "      <td>0</td>\n",
       "      <td>0</td>\n",
       "      <td>0</td>\n",
       "    </tr>\n",
       "  </tbody>\n",
       "</table>\n",
       "<p>10000 rows × 19 columns</p>\n",
       "</div>"
      ],
      "text/plain": [
       "          ID    AGE  GENDER      RACE DRIVING_EXPERIENCE    EDUCATION  \\\n",
       "0     198079    65+    male  majority               30y+   university   \n",
       "1     588867    65+    male  majority               30y+   university   \n",
       "2     126494    65+    male  majority               30y+   university   \n",
       "3     519204    65+    male  majority               30y+  high school   \n",
       "4     272776    65+    male  majority               30y+  high school   \n",
       "...      ...    ...     ...       ...                ...          ...   \n",
       "9995  366048  26-39    male  majority               0-9y  high school   \n",
       "9996  595418  16-25    male  minority               0-9y  high school   \n",
       "9997  302403  16-25  female  majority               0-9y  high school   \n",
       "9998  468409  26-39    male  majority               0-9y  high school   \n",
       "9999  442696  26-39  female  majority               0-9y         none   \n",
       "\n",
       "             INCOME  CREDIT_SCORE  VEHICLE_OWNERSHIP VEHICLE_YEAR  MARRIED  \\\n",
       "0       upper class      0.570121                  1  before 2015        1   \n",
       "1       upper class      0.569639                  1  before 2015        1   \n",
       "2       upper class      0.448258                  1   after 2015        0   \n",
       "3      middle class      0.373548                  1  before 2015        1   \n",
       "4       upper class      0.558587                  1  before 2015        1   \n",
       "...             ...           ...                ...          ...      ...   \n",
       "9995  working class           NaN                  1  before 2015        0   \n",
       "9996  working class           NaN                  1  before 2015        0   \n",
       "9997  working class      0.502120                  1  before 2015        0   \n",
       "9998   middle class      0.470940                  1  before 2015        0   \n",
       "9999  working class      0.435225                  1  before 2015        1   \n",
       "\n",
       "      CHILDREN  POSTAL_CODE  ANNUAL_MILEAGE VEHICLE_TYPE  SPEEDING_VIOLATIONS  \\\n",
       "0            1        32765          5000.0        sedan                   22   \n",
       "1            0        32765             NaN        sedan                   19   \n",
       "2            1        32765          9000.0   sports car                   19   \n",
       "3            1        32765          4000.0        sedan                   18   \n",
       "4            1        32765             NaN        sedan                   17   \n",
       "...        ...          ...             ...          ...                  ...   \n",
       "9995         1        10238         11000.0        sedan                    0   \n",
       "9996         1        10238         11000.0        sedan                    0   \n",
       "9997         1        32765         10000.0        sedan                    0   \n",
       "9998         1        10238         14000.0        sedan                    0   \n",
       "9999         1        10238         13000.0        sedan                    0   \n",
       "\n",
       "      DUIS  PAST_ACCIDENTS  OUTCOME  \n",
       "0        0               6        1  \n",
       "1        0               2        1  \n",
       "2        1               0        1  \n",
       "3        0               9        1  \n",
       "4        0               3        1  \n",
       "...    ...             ...      ...  \n",
       "9995     0               0        0  \n",
       "9996     0               0        0  \n",
       "9997     0               0        1  \n",
       "9998     0               0        0  \n",
       "9999     0               0        0  \n",
       "\n",
       "[10000 rows x 19 columns]"
      ]
     },
     "execution_count": 2,
     "metadata": {},
     "output_type": "execute_result"
    }
   ],
   "source": [
    "insurance_dataframe = pd.read_csv(\"Car_Insurance_Claim.csv\")\n",
    "insurance_dataframe"
   ]
  },
  {
   "cell_type": "markdown",
   "id": "32708704",
   "metadata": {},
   "source": [
    "### Clean up the data\n",
    "<a id='clean_data'></a>\n",
    "Replace all the strings with numerical values"
   ]
  },
  {
   "cell_type": "code",
   "execution_count": 3,
   "id": "353d1a85",
   "metadata": {},
   "outputs": [],
   "source": [
    "# Replace \"female\" with 0 and \"male\" with 1\n",
    "insurance_dataframe[\"GENDER\"].replace(to_replace=\"female\", value=0, inplace=True)\n",
    "insurance_dataframe[\"GENDER\"].replace(to_replace=\"male\", value=1, inplace=True)\n",
    "\n",
    "# Replace ages\n",
    "# 16-25 = 0\n",
    "# 26-39 = 1\n",
    "# 40-64 = 2\n",
    "# 65+ = 3\n",
    "\n",
    "insurance_dataframe[\"AGE\"].replace(to_replace=\"16-25\", value=0, inplace=True)\n",
    "insurance_dataframe[\"AGE\"].replace(to_replace=\"26-39\", value=1, inplace=True)\n",
    "insurance_dataframe[\"AGE\"].replace(to_replace=\"40-64\", value=2, inplace=True)\n",
    "insurance_dataframe[\"AGE\"].replace(to_replace=\"65+\", value=3, inplace=True)\n",
    "\n",
    "# Replace race\n",
    "# majority = 0\n",
    "# minority = 1\n",
    "\n",
    "insurance_dataframe[\"RACE\"].replace(to_replace=\"majority\", value=0, inplace=True)\n",
    "insurance_dataframe[\"RACE\"].replace(to_replace=\"minority\", value=1, inplace=True)\n",
    "\n",
    "# Replace driving experience\n",
    "# 0-9y = 0\n",
    "# 10-19y = 1\n",
    "# 20-29y = 2\n",
    "# 30y+ = 3\n",
    "\n",
    "insurance_dataframe[\"DRIVING_EXPERIENCE\"].replace(to_replace=\"0-9y\", value=0, inplace=True)\n",
    "insurance_dataframe[\"DRIVING_EXPERIENCE\"].replace(to_replace=\"10-19y\", value=1, inplace=True)\n",
    "insurance_dataframe[\"DRIVING_EXPERIENCE\"].replace(to_replace=\"20-29y\", value=2, inplace=True)\n",
    "insurance_dataframe[\"DRIVING_EXPERIENCE\"].replace(to_replace=\"30y+\", value=3, inplace=True)\n",
    "\n",
    "# Replace education\n",
    "# none = 0\n",
    "# high school = 1\n",
    "# university = 2\n",
    "\n",
    "insurance_dataframe[\"EDUCATION\"].replace(to_replace=\"none\", value=0, inplace=True)\n",
    "insurance_dataframe[\"EDUCATION\"].replace(to_replace=\"high school\", value=1, inplace=True)\n",
    "insurance_dataframe[\"EDUCATION\"].replace(to_replace=\"university\", value=2, inplace=True)\n",
    "\n",
    "# Replace income\n",
    "# poverty = 0\n",
    "# working class = 1\n",
    "# middle class = 2\n",
    "# upper class = 3\n",
    "\n",
    "insurance_dataframe[\"INCOME\"].replace(to_replace=\"poverty\", value=0, inplace=True)\n",
    "insurance_dataframe[\"INCOME\"].replace(to_replace=\"working class\", value=1, inplace=True)\n",
    "insurance_dataframe[\"INCOME\"].replace(to_replace=\"middle class\", value=2, inplace=True)\n",
    "insurance_dataframe[\"INCOME\"].replace(to_replace=\"upper class\", value=3, inplace=True)\n",
    "\n",
    "# Replace vehicle year\n",
    "# before 2015 = 0\n",
    "# after 2015 = 1\n",
    "\n",
    "insurance_dataframe[\"VEHICLE_YEAR\"].replace(to_replace=\"before 2015\", value=0, inplace=True)\n",
    "insurance_dataframe[\"VEHICLE_YEAR\"].replace(to_replace=\"after 2015\", value=1, inplace=True)\n",
    "\n",
    "# Replace vehicle type\n",
    "# sedan = 0\n",
    "# sports car = 1\n",
    "\n",
    "insurance_dataframe[\"VEHICLE_TYPE\"].replace(to_replace=\"sedan\", value=0, inplace=True)\n",
    "insurance_dataframe[\"VEHICLE_TYPE\"].replace(to_replace=\"sports car\", value=1, inplace=True)\n"
   ]
  },
  {
   "cell_type": "markdown",
   "id": "d5c64bec",
   "metadata": {},
   "source": [
    "### Remove the columns that are irrelevant\n",
    "<a id='remove_columns'></a>"
   ]
  },
  {
   "cell_type": "code",
   "execution_count": 4,
   "id": "b9e55f10",
   "metadata": {},
   "outputs": [],
   "source": [
    "# Drop the \"RACE\" column (not something we want to consider)\n",
    "# Drop the \"ID\" column (not relevant to the analysis)\n",
    "insurance_dataframe = insurance_dataframe.drop(columns=['RACE', 'ID'])"
   ]
  },
  {
   "cell_type": "markdown",
   "id": "4039ea27",
   "metadata": {},
   "source": [
    "### Remove incomplete rows\n",
    "<a id='remove_rows'></a>"
   ]
  },
  {
   "cell_type": "code",
   "execution_count": 5,
   "id": "242c3ac7",
   "metadata": {},
   "outputs": [],
   "source": [
    "# Drop all the rows with NaN values\n",
    "insurance_dataframe.dropna(axis='rows', inplace=True)"
   ]
  },
  {
   "cell_type": "markdown",
   "id": "39c3b264",
   "metadata": {},
   "source": [
    "### Show updated dataframe\n",
    "<a id='show_dataframe'></a>"
   ]
  },
  {
   "cell_type": "code",
   "execution_count": 6,
   "id": "e742dfc9",
   "metadata": {},
   "outputs": [
    {
     "data": {
      "text/html": [
       "<div>\n",
       "<style scoped>\n",
       "    .dataframe tbody tr th:only-of-type {\n",
       "        vertical-align: middle;\n",
       "    }\n",
       "\n",
       "    .dataframe tbody tr th {\n",
       "        vertical-align: top;\n",
       "    }\n",
       "\n",
       "    .dataframe thead th {\n",
       "        text-align: right;\n",
       "    }\n",
       "</style>\n",
       "<table border=\"1\" class=\"dataframe\">\n",
       "  <thead>\n",
       "    <tr style=\"text-align: right;\">\n",
       "      <th></th>\n",
       "      <th>AGE</th>\n",
       "      <th>GENDER</th>\n",
       "      <th>DRIVING_EXPERIENCE</th>\n",
       "      <th>EDUCATION</th>\n",
       "      <th>INCOME</th>\n",
       "      <th>CREDIT_SCORE</th>\n",
       "      <th>VEHICLE_OWNERSHIP</th>\n",
       "      <th>VEHICLE_YEAR</th>\n",
       "      <th>MARRIED</th>\n",
       "      <th>CHILDREN</th>\n",
       "      <th>POSTAL_CODE</th>\n",
       "      <th>ANNUAL_MILEAGE</th>\n",
       "      <th>VEHICLE_TYPE</th>\n",
       "      <th>SPEEDING_VIOLATIONS</th>\n",
       "      <th>DUIS</th>\n",
       "      <th>PAST_ACCIDENTS</th>\n",
       "      <th>OUTCOME</th>\n",
       "    </tr>\n",
       "  </thead>\n",
       "  <tbody>\n",
       "    <tr>\n",
       "      <th>0</th>\n",
       "      <td>3</td>\n",
       "      <td>1</td>\n",
       "      <td>3</td>\n",
       "      <td>2</td>\n",
       "      <td>3</td>\n",
       "      <td>0.570121</td>\n",
       "      <td>1</td>\n",
       "      <td>0</td>\n",
       "      <td>1</td>\n",
       "      <td>1</td>\n",
       "      <td>32765</td>\n",
       "      <td>5000.0</td>\n",
       "      <td>0</td>\n",
       "      <td>22</td>\n",
       "      <td>0</td>\n",
       "      <td>6</td>\n",
       "      <td>1</td>\n",
       "    </tr>\n",
       "    <tr>\n",
       "      <th>2</th>\n",
       "      <td>3</td>\n",
       "      <td>1</td>\n",
       "      <td>3</td>\n",
       "      <td>2</td>\n",
       "      <td>3</td>\n",
       "      <td>0.448258</td>\n",
       "      <td>1</td>\n",
       "      <td>1</td>\n",
       "      <td>0</td>\n",
       "      <td>1</td>\n",
       "      <td>32765</td>\n",
       "      <td>9000.0</td>\n",
       "      <td>1</td>\n",
       "      <td>19</td>\n",
       "      <td>1</td>\n",
       "      <td>0</td>\n",
       "      <td>1</td>\n",
       "    </tr>\n",
       "    <tr>\n",
       "      <th>3</th>\n",
       "      <td>3</td>\n",
       "      <td>1</td>\n",
       "      <td>3</td>\n",
       "      <td>1</td>\n",
       "      <td>2</td>\n",
       "      <td>0.373548</td>\n",
       "      <td>1</td>\n",
       "      <td>0</td>\n",
       "      <td>1</td>\n",
       "      <td>1</td>\n",
       "      <td>32765</td>\n",
       "      <td>4000.0</td>\n",
       "      <td>0</td>\n",
       "      <td>18</td>\n",
       "      <td>0</td>\n",
       "      <td>9</td>\n",
       "      <td>1</td>\n",
       "    </tr>\n",
       "    <tr>\n",
       "      <th>5</th>\n",
       "      <td>3</td>\n",
       "      <td>1</td>\n",
       "      <td>3</td>\n",
       "      <td>2</td>\n",
       "      <td>3</td>\n",
       "      <td>0.562488</td>\n",
       "      <td>1</td>\n",
       "      <td>0</td>\n",
       "      <td>1</td>\n",
       "      <td>1</td>\n",
       "      <td>32765</td>\n",
       "      <td>6000.0</td>\n",
       "      <td>0</td>\n",
       "      <td>17</td>\n",
       "      <td>2</td>\n",
       "      <td>2</td>\n",
       "      <td>1</td>\n",
       "    </tr>\n",
       "    <tr>\n",
       "      <th>7</th>\n",
       "      <td>3</td>\n",
       "      <td>1</td>\n",
       "      <td>3</td>\n",
       "      <td>2</td>\n",
       "      <td>3</td>\n",
       "      <td>0.539120</td>\n",
       "      <td>1</td>\n",
       "      <td>0</td>\n",
       "      <td>1</td>\n",
       "      <td>1</td>\n",
       "      <td>32765</td>\n",
       "      <td>10000.0</td>\n",
       "      <td>0</td>\n",
       "      <td>16</td>\n",
       "      <td>0</td>\n",
       "      <td>3</td>\n",
       "      <td>1</td>\n",
       "    </tr>\n",
       "  </tbody>\n",
       "</table>\n",
       "</div>"
      ],
      "text/plain": [
       "   AGE  GENDER  DRIVING_EXPERIENCE  EDUCATION  INCOME  CREDIT_SCORE  \\\n",
       "0    3       1                   3          2       3      0.570121   \n",
       "2    3       1                   3          2       3      0.448258   \n",
       "3    3       1                   3          1       2      0.373548   \n",
       "5    3       1                   3          2       3      0.562488   \n",
       "7    3       1                   3          2       3      0.539120   \n",
       "\n",
       "   VEHICLE_OWNERSHIP  VEHICLE_YEAR  MARRIED  CHILDREN  POSTAL_CODE  \\\n",
       "0                  1             0        1         1        32765   \n",
       "2                  1             1        0         1        32765   \n",
       "3                  1             0        1         1        32765   \n",
       "5                  1             0        1         1        32765   \n",
       "7                  1             0        1         1        32765   \n",
       "\n",
       "   ANNUAL_MILEAGE  VEHICLE_TYPE  SPEEDING_VIOLATIONS  DUIS  PAST_ACCIDENTS  \\\n",
       "0          5000.0             0                   22     0               6   \n",
       "2          9000.0             1                   19     1               0   \n",
       "3          4000.0             0                   18     0               9   \n",
       "5          6000.0             0                   17     2               2   \n",
       "7         10000.0             0                   16     0               3   \n",
       "\n",
       "   OUTCOME  \n",
       "0        1  \n",
       "2        1  \n",
       "3        1  \n",
       "5        1  \n",
       "7        1  "
      ]
     },
     "execution_count": 6,
     "metadata": {},
     "output_type": "execute_result"
    }
   ],
   "source": [
    "insurance_dataframe.head()"
   ]
  },
  {
   "cell_type": "markdown",
   "id": "53388a56",
   "metadata": {},
   "source": [
    "# Data Visualization\n",
    "<a id='data_visualization'></a>"
   ]
  },
  {
   "cell_type": "markdown",
   "id": "cf7f3e3e",
   "metadata": {},
   "source": [
    "### Bar graph showing distribution of customers in dateset with and without prior claims"
   ]
  },
  {
   "cell_type": "code",
   "execution_count": 7,
   "id": "6533c393",
   "metadata": {},
   "outputs": [
    {
     "data": {
      "image/png": "[encoded data removed]",
      "text/plain": [
       "<Figure size 1440x720 with 1 Axes>"
      ]
     },
     "metadata": {
      "needs_background": "light"
     },
     "output_type": "display_data"
    }
   ],
   "source": [
    "plt.figure(figsize=(20,10))\n",
    "plt.title('Outcome Count')\n",
    "graph1 = sns.countplot(data=insurance_dataframe, x ='OUTCOME')\n",
    "graph1.set_xticklabels([\"No Claim\", \"Prior Claim\"]);"
   ]
  },
  {
   "cell_type": "markdown",
   "id": "9e94772f",
   "metadata": {},
   "source": [
    "### Bar graph showing age distribution of customers in the dateset"
   ]
  },
  {
   "cell_type": "code",
   "execution_count": 8,
   "id": "e9806b35",
   "metadata": {},
   "outputs": [
    {
     "data": {
      "image/png": "[encoded data removed]",
      "text/plain": [
       "<Figure size 1440x720 with 1 Axes>"
      ]
     },
     "metadata": {
      "needs_background": "light"
     },
     "output_type": "display_data"
    }
   ],
   "source": [
    "plt.figure(figsize=(20,10))\n",
    "plt.title('Age Distribution')\n",
    "graph2 = sns.countplot(data=insurance_dataframe, x ='AGE');\n",
    "graph2.set_xticklabels([\"16-25\", \"26-39\", \"40-64\", \"65+\"]);\n"
   ]
  },
  {
   "cell_type": "markdown",
   "id": "7312257f",
   "metadata": {},
   "source": [
    "### Bar graph showing claim history compared to customer income level"
   ]
  },
  {
   "cell_type": "code",
   "execution_count": 9,
   "id": "bc2e49f2",
   "metadata": {},
   "outputs": [
    {
     "data": {
      "image/png": "[encoded data removed]",
      "text/plain": [
       "<Figure size 1440x720 with 1 Axes>"
      ]
     },
     "metadata": {
      "needs_background": "light"
     },
     "output_type": "display_data"
    }
   ],
   "source": [
    "plt.figure(figsize=(20,10))\n",
    "plt.title('Income Count color by outcome')\n",
    "graph3 = sns.countplot(data=insurance_dataframe, x ='INCOME', hue='OUTCOME');\n",
    "graph3.legend(labels=[\"No Claim\", \"Prior Claim\"])\n",
    "graph3.set_xticklabels([\"Poverty\", \"Working Class\", \"Middle Class\", \"Upper Class\"]);\n"
   ]
  },
  {
   "cell_type": "markdown",
   "id": "1eb82e81",
   "metadata": {},
   "source": [
    "## Identify features and labels and build machine learning algorithm\n",
    "<a id='identify_features'></a>"
   ]
  },
  {
   "cell_type": "code",
   "execution_count": 32,
   "id": "b04dadb4",
   "metadata": {},
   "outputs": [],
   "source": [
    "# 1. Identify Features\n",
    "# Create X (features matrix)\n",
    "X = insurance_dataframe.drop(\"OUTCOME\", axis=1)\n",
    "\n",
    "# Create Y (labels)\n",
    "Y = insurance_dataframe[\"OUTCOME\"]"
   ]
  },
  {
   "cell_type": "code",
   "execution_count": 11,
   "id": "80c87b88",
   "metadata": {},
   "outputs": [
    {
     "data": {
      "text/plain": [
       "{'bootstrap': True,\n",
       " 'ccp_alpha': 0.0,\n",
       " 'class_weight': None,\n",
       " 'criterion': 'gini',\n",
       " 'max_depth': None,\n",
       " 'max_features': 'auto',\n",
       " 'max_leaf_nodes': None,\n",
       " 'max_samples': None,\n",
       " 'min_impurity_decrease': 0.0,\n",
       " 'min_impurity_split': None,\n",
       " 'min_samples_leaf': 1,\n",
       " 'min_samples_split': 2,\n",
       " 'min_weight_fraction_leaf': 0.0,\n",
       " 'n_estimators': 100,\n",
       " 'n_jobs': None,\n",
       " 'oob_score': False,\n",
       " 'random_state': None,\n",
       " 'verbose': 0,\n",
       " 'warm_start': False}"
      ]
     },
     "execution_count": 11,
     "metadata": {},
     "output_type": "execute_result"
    }
   ],
   "source": [
    "# 2. Choose the model and hyperparameters (dials on the model we can tune to make it better or worse)\n",
    "# Using RandomForestClassifier\n",
    "\n",
    "from sklearn.ensemble import RandomForestClassifier\n",
    "clf = RandomForestClassifier() #clf is short for classifier\n",
    "\n",
    "# We'll keep the default hyperparameters\n",
    "clf.get_params()\n",
    "\n",
    "# The stuff printed below are our hyperparameters"
   ]
  },
  {
   "cell_type": "code",
   "execution_count": 12,
   "id": "93db3782",
   "metadata": {},
   "outputs": [],
   "source": [
    "# 3. Fit the model to the training data\n",
    "# The code below splits your data from X and Y to X train/X test and Y train/Y test\n",
    "from sklearn.model_selection import train_test_split\n",
    "\n",
    "# Use 20% of the dataset for testing\n",
    "X_train, X_test, Y_train, Y_test = train_test_split(X, Y, test_size=0.2)"
   ]
  },
  {
   "cell_type": "code",
   "execution_count": 13,
   "id": "fafc9927",
   "metadata": {},
   "outputs": [
    {
     "data": {
      "text/plain": [
       "RandomForestClassifier()"
      ]
     },
     "execution_count": 13,
     "metadata": {},
     "output_type": "execute_result"
    }
   ],
   "source": [
    "# Use random forest to find the patterns in the training data\n",
    "clf.fit(X_train, Y_train)"
   ]
  },
  {
   "cell_type": "code",
   "execution_count": 14,
   "id": "84c88fee",
   "metadata": {},
   "outputs": [],
   "source": [
    "# Make a prediction\n",
    "Y_preds = clf.predict(X_test)"
   ]
  },
  {
   "cell_type": "code",
   "execution_count": 15,
   "id": "10ab9610",
   "metadata": {},
   "outputs": [
    {
     "data": {
      "text/plain": [
       "array([0, 0, 0, ..., 0, 1, 1])"
      ]
     },
     "execution_count": 15,
     "metadata": {},
     "output_type": "execute_result"
    }
   ],
   "source": [
    "Y_preds"
   ]
  },
  {
   "cell_type": "code",
   "execution_count": 16,
   "id": "6f494a9f",
   "metadata": {},
   "outputs": [
    {
     "data": {
      "text/plain": [
       "1.0"
      ]
     },
     "execution_count": 16,
     "metadata": {},
     "output_type": "execute_result"
    }
   ],
   "source": [
    "# 4. Evaluate the model on the training data and test data\n",
    "clf.score(X_train, Y_train)"
   ]
  },
  {
   "cell_type": "code",
   "execution_count": 17,
   "id": "03811184",
   "metadata": {},
   "outputs": [
    {
     "data": {
      "text/plain": [
       "0.8239263803680982"
      ]
     },
     "execution_count": 17,
     "metadata": {},
     "output_type": "execute_result"
    }
   ],
   "source": [
    "# Evaluate the test data\n",
    "clf.score(X_test, Y_test)"
   ]
  },
  {
   "cell_type": "markdown",
   "id": "74bcee9d",
   "metadata": {},
   "source": [
    "### Model Accuracy Evaluation\n",
    "<a id='evaluate_accuracy'></a>"
   ]
  },
  {
   "cell_type": "code",
   "execution_count": 18,
   "id": "5b806369",
   "metadata": {},
   "outputs": [
    {
     "name": "stdout",
     "output_type": "stream",
     "text": [
      "              precision    recall  f1-score   support\n",
      "\n",
      "           0       0.85      0.85      0.85       954\n",
      "           1       0.79      0.79      0.79       676\n",
      "\n",
      "    accuracy                           0.82      1630\n",
      "   macro avg       0.82      0.82      0.82      1630\n",
      "weighted avg       0.82      0.82      0.82      1630\n",
      "\n"
     ]
    }
   ],
   "source": [
    "from sklearn.metrics import classification_report, confusion_matrix, accuracy_score\n",
    "\n",
    "print(classification_report(Y_test, Y_preds))"
   ]
  },
  {
   "cell_type": "code",
   "execution_count": 19,
   "id": "00bae304",
   "metadata": {},
   "outputs": [
    {
     "data": {
      "text/plain": [
       "array([[811, 143],\n",
       "       [144, 532]])"
      ]
     },
     "execution_count": 19,
     "metadata": {},
     "output_type": "execute_result"
    }
   ],
   "source": [
    "confusion_matrix(Y_test, Y_preds)"
   ]
  },
  {
   "cell_type": "code",
   "execution_count": 20,
   "id": "d596652f",
   "metadata": {},
   "outputs": [
    {
     "data": {
      "text/plain": [
       "0.8239263803680982"
      ]
     },
     "execution_count": 20,
     "metadata": {},
     "output_type": "execute_result"
    }
   ],
   "source": [
    "accuracy_score(Y_test, Y_preds)"
   ]
  },
  {
   "cell_type": "code",
   "execution_count": 21,
   "id": "2d2868e4",
   "metadata": {},
   "outputs": [
    {
     "name": "stdout",
     "output_type": "stream",
     "text": [
      "Trying model with 10 estimators...\n",
      "Model accuracy on test set: 80.74%\n",
      "\n",
      "Trying model with 20 estimators...\n",
      "Model accuracy on test set: 81.84%\n",
      "\n",
      "Trying model with 30 estimators...\n",
      "Model accuracy on test set: 82.27%\n",
      "\n",
      "Trying model with 40 estimators...\n",
      "Model accuracy on test set: 81.90%\n",
      "\n",
      "Trying model with 50 estimators...\n",
      "Model accuracy on test set: 82.45%\n",
      "\n",
      "Trying model with 60 estimators...\n",
      "Model accuracy on test set: 82.70%\n",
      "\n",
      "Trying model with 70 estimators...\n",
      "Model accuracy on test set: 82.82%\n",
      "\n",
      "Trying model with 80 estimators...\n",
      "Model accuracy on test set: 82.33%\n",
      "\n",
      "Trying model with 90 estimators...\n",
      "Model accuracy on test set: 82.52%\n",
      "\n"
     ]
    }
   ],
   "source": [
    "# 5. Improve a model\n",
    "# Try different amount of n_estimators\n",
    "np.random.seed(42)\n",
    "for i in range(10, 100, 10):\n",
    "    print(f\"Trying model with {i} estimators...\")\n",
    "    clf = RandomForestClassifier(n_estimators=i).fit(X_train, Y_train)\n",
    "    print(f\"Model accuracy on test set: {clf.score(X_test, Y_test) * 100:.2f}%\")\n",
    "    print(\"\")"
   ]
  },
  {
   "cell_type": "markdown",
   "id": "8da155bc",
   "metadata": {},
   "source": [
    "# Build UI\n",
    "<a id='build_UI'></a>"
   ]
  },
  {
   "cell_type": "code",
   "execution_count": 30,
   "id": "6e2f3c0f",
   "metadata": {
    "scrolled": false
   },
   "outputs": [],
   "source": [
    "warnings.filterwarnings(\"ignore\", category=DeprecationWarning)\n",
    "\n",
    "# <------------------- Build gender selection boxes ------------------->\n",
    "# \"female\" = 0 \n",
    "# \"male\" = 1\n",
    "\n",
    "gender = 0\n",
    "def male_clicked(arg):\n",
    "    global gender\n",
    "    gender = 1\n",
    "#     print(gender)\n",
    "#     print(\"male button has been clicked!\")\n",
    "    \n",
    "    male_button.style.button_color = 'lightgreen'\n",
    "    female_button.style.button_color = 'lightgray'\n",
    "\n",
    "\n",
    "male_button = widgets.Button(description = 'Male')   \n",
    "male_button.on_click(male_clicked)\n",
    "\n",
    "def female_clicked(arg):\n",
    "    global gender\n",
    "    gender = 0\n",
    "#     print(gender)\n",
    "#     print(\"female button has been clicked!\")\n",
    "    \n",
    "    female_button.style.button_color = 'lightgreen'\n",
    "    male_button.style.button_color = 'lightgray'\n",
    "    \n",
    "female_button = widgets.Button(description = 'Female')   \n",
    "female_button.on_click(female_clicked)\n",
    "\n",
    "\n",
    "# <------------------- Build age selection box ------------------->\n",
    "\n",
    "# Age\n",
    "# 16-25 = 0\n",
    "# 26-39 = 1\n",
    "# 40-64 = 2\n",
    "# 65+ = 3\n",
    "\n",
    "age = 2\n",
    "        \n",
    "age_box = widgets.BoundedIntText(\n",
    "    value=35,\n",
    "    min=16,\n",
    "    max=100,\n",
    "    step=1,\n",
    "    description='Age:',\n",
    "    disabled=False\n",
    ")\n",
    "\n",
    "def on_age_change(b):\n",
    "    global age\n",
    "    age = int(age_box.value)\n",
    "    if age < 26:\n",
    "        age = 0\n",
    "    elif age >= 26 and age < 40:\n",
    "        age = 1\n",
    "    elif age >= 40 and age < 65:\n",
    "        age = 2\n",
    "    else:\n",
    "        age = 3\n",
    "#     print(age)\n",
    "\n",
    "age_box.on_trait_change(on_age_change)\n",
    "\n",
    "\n",
    "# <------------------- Build driving experience buttons ------------------->\n",
    "# 0-9y = 0\n",
    "# 10-19y = 1\n",
    "# 20-29y = 2\n",
    "# 30y+ = 3\n",
    "\n",
    "driving_experience = 2\n",
    "\n",
    "def zero_to_nine_clicked(arg):\n",
    "    global driving_experience\n",
    "    driving_experience = 0\n",
    "#     print(\"0-9 yrs selected\")\n",
    "#     print(\"Driving experience: \" + str(driving_experience))\n",
    "    \n",
    "    zero_to_nine_button.style.button_color = 'lightgreen'\n",
    "    ten_to_nineteen_button.style.button_color = 'lightgray'\n",
    "    twenty_to_twentynine_button.style.button_color = 'lightgray'\n",
    "    thirty_plus_button.style.button_color = 'lightgray'\n",
    "\n",
    "\n",
    "zero_to_nine_button = widgets.Button(description = '0-9 yrs')   \n",
    "zero_to_nine_button.on_click(zero_to_nine_clicked)\n",
    "\n",
    "def ten_to_nineteen_clicked(arg):\n",
    "    global driving_experience\n",
    "    driving_experience = 1\n",
    "#     print(\"10-19 yrs selected\")\n",
    "#     print(\"Driving experience: \" + str(driving_experience))\n",
    "    \n",
    "    zero_to_nine_button.style.button_color = 'lightgray'\n",
    "    ten_to_nineteen_button.style.button_color = 'lightgreen'\n",
    "    twenty_to_twentynine_button.style.button_color = 'lightgray'\n",
    "    thirty_plus_button.style.button_color = 'lightgray'\n",
    "\n",
    "ten_to_nineteen_button = widgets.Button(description = '10-19 yrs')   \n",
    "ten_to_nineteen_button.on_click(ten_to_nineteen_clicked)\n",
    "\n",
    "def twenty_to_twentynine_clicked(arg):\n",
    "    global driving_experience\n",
    "    driving_experience = 2\n",
    "#     print(\"20-29 yrs selected\")\n",
    "#     print(\"Driving experience: \" + str(driving_experience))\n",
    "    \n",
    "    zero_to_nine_button.style.button_color = 'lightgray'\n",
    "    ten_to_nineteen_button.style.button_color = 'lightgray'\n",
    "    twenty_to_twentynine_button.style.button_color = 'lightgreen'\n",
    "    thirty_plus_button.style.button_color = 'lightgray'\n",
    "\n",
    "twenty_to_twentynine_button = widgets.Button(description = '20-29 yrs')   \n",
    "twenty_to_twentynine_button.on_click(twenty_to_twentynine_clicked)\n",
    "\n",
    "def thirty_plus_clicked(arg):\n",
    "    global driving_experience\n",
    "    driving_experience = 3\n",
    "#     print(\"30+ yrs selected\")\n",
    "#     print(\"Driving experience: \" + str(driving_experience))\n",
    "    \n",
    "    zero_to_nine_button.style.button_color = 'lightgray'\n",
    "    ten_to_nineteen_button.style.button_color = 'lightgray'\n",
    "    twenty_to_twentynine_button.style.button_color = 'lightgray'\n",
    "    thirty_plus_button.style.button_color = 'lightgreen'\n",
    "\n",
    "thirty_plus_button = widgets.Button(description = '30+ yrs')   \n",
    "thirty_plus_button.on_click(thirty_plus_clicked)\n",
    "\n",
    "# <------------------- Build education level buttons ------------------->\n",
    "# Education level\n",
    "# none = 0\n",
    "# high school = 1\n",
    "# university = 2\n",
    "\n",
    "education_level = 1\n",
    "\n",
    "def uneducated_clicked(arg):\n",
    "    global education_level\n",
    "    education_level = 0\n",
    "#     print(\"No education\")\n",
    "#     print(\"Education level: \" + str(education_level))\n",
    "    \n",
    "    uneducated_button.style.button_color = 'lightgreen'\n",
    "    high_school_button.style.button_color = 'lightgray'\n",
    "    university_button.style.button_color = 'lightgray'\n",
    "\n",
    "\n",
    "uneducated_button = widgets.Button(description = 'None')   \n",
    "uneducated_button.on_click(uneducated_clicked)\n",
    "\n",
    "def high_school_clicked(arg):\n",
    "    global education_level\n",
    "    education_level = 1\n",
    "#     print(\"High school selected\")\n",
    "#     print(\"Education level: \" + str(education_level))\n",
    "    \n",
    "    uneducated_button.style.button_color = 'lightgray'\n",
    "    high_school_button.style.button_color = 'lightgreen'\n",
    "    university_button.style.button_color = 'lightgray'\n",
    "\n",
    "high_school_button = widgets.Button(description = 'High school')   \n",
    "high_school_button.on_click(high_school_clicked)\n",
    "\n",
    "def university_clicked(arg):\n",
    "    global education_level\n",
    "    education_level = 2\n",
    "#     print(\"University selected\")\n",
    "#     print(\"Education level: \" + str(education_level))\n",
    "    \n",
    "    uneducated_button.style.button_color = 'lightgray'\n",
    "    high_school_button.style.button_color = 'lightgray'\n",
    "    university_button.style.button_color = 'lightgreen'\n",
    "\n",
    "university_button = widgets.Button(description = 'University')   \n",
    "university_button.on_click(university_clicked)\n",
    "\n",
    "# <------------------- Build income level buttons ------------------->\n",
    "# Income level\n",
    "# poverty = 0\n",
    "# working class = 1\n",
    "# middle class = 2\n",
    "# upper class = 3\n",
    "\n",
    "income_level = 2\n",
    "\n",
    "def poverty_clicked(arg):\n",
    "    global income_level\n",
    "    income_level = 0\n",
    "#     print(\"Poverty selected\")\n",
    "#     print(\"Income level: \" + str(income_level))\n",
    "    \n",
    "    poverty_button.style.button_color = 'lightgreen'\n",
    "    working_class_button.style.button_color = 'lightgray'\n",
    "    middle_class_button.style.button_color = 'lightgray'\n",
    "    upper_class_button.style.button_color = 'lightgray'\n",
    "\n",
    "\n",
    "poverty_button = widgets.Button(description = 'Poverty')   \n",
    "poverty_button.on_click(poverty_clicked)\n",
    "\n",
    "def working_class_clicked(arg):\n",
    "    global income_level\n",
    "    income_level = 1\n",
    "#     print(\"Working class selected\")\n",
    "#     print(\"Income level: \" + str(income_level))\n",
    "    \n",
    "    poverty_button.style.button_color = 'lightgray'\n",
    "    working_class_button.style.button_color = 'lightgreen'\n",
    "    middle_class_button.style.button_color = 'lightgray'\n",
    "    upper_class_button.style.button_color = 'lightgray'\n",
    "\n",
    "working_class_button = widgets.Button(description = 'Working Class')   \n",
    "working_class_button.on_click(working_class_clicked)\n",
    "\n",
    "def middle_class_clicked(arg):\n",
    "    global income_level\n",
    "    income_level = 2\n",
    "#     print(\"Middle class selected\")\n",
    "#     print(\"Income level: \" + str(income_level))\n",
    "    \n",
    "    poverty_button.style.button_color = 'lightgray'\n",
    "    working_class_button.style.button_color = 'lightgray'\n",
    "    middle_class_button.style.button_color = 'lightgreen'\n",
    "    upper_class_button.style.button_color = 'lightgray'\n",
    "\n",
    "middle_class_button = widgets.Button(description = 'Middle class')   \n",
    "middle_class_button.on_click(middle_class_clicked)\n",
    "\n",
    "def upper_class_clicked(arg):\n",
    "    global income_level\n",
    "    income_level = 3\n",
    "#     print(\"Upper class selected\")\n",
    "#     print(\"Income level: \" + str(income_level))\n",
    "    \n",
    "    poverty_button.style.button_color = 'lightgray'\n",
    "    working_class_button.style.button_color = 'lightgray'\n",
    "    middle_class_button.style.button_color = 'lightgray'\n",
    "    upper_class_button.style.button_color = 'lightgreen'\n",
    "\n",
    "upper_class_button = widgets.Button(description = 'Upper class')   \n",
    "upper_class_button.on_click(upper_class_clicked)\n",
    "\n",
    "\n",
    "# <------------------- Credit score selection box ------------------->\n",
    "# Credit scores (option #2)\n",
    "# ranging from 300 to 850\n",
    "# ((Customer credit score) - 299) / 550 = customer credit score as a fractional number\n",
    "        \n",
    "credit_score = (750 - 300) / 550    \n",
    "    \n",
    "credit_score_box = widgets.BoundedIntText(\n",
    "    value=800,\n",
    "    min=300,\n",
    "    max=850,\n",
    "    step=1,\n",
    "    description='Credit score:',\n",
    "    disabled=False\n",
    "    \n",
    ")\n",
    "\n",
    "def on_credit_change(b):\n",
    "    global credit_score\n",
    "    credit_score = (credit_score_box.value - 300) / 550\n",
    "#     print(credit_score)\n",
    "\n",
    "credit_score_box.on_trait_change(on_credit_change)\n",
    "\n",
    "\n",
    "# <------------------- Build vehicle ownership buttons ------------------->\n",
    "# Vehicle ownership\n",
    "# \"loan\" = 0 \n",
    "# \"owned\" = 1\n",
    "\n",
    "vehicle_ownership = 1\n",
    "\n",
    "def owner_clicked(arg):\n",
    "    global vehicle_ownership\n",
    "    vehicle_ownership = 1\n",
    "#     print(vehicle_ownership)\n",
    "#     print(\"own vehicle clicked!\")\n",
    "    \n",
    "    owner_button.style.button_color = 'lightgreen'\n",
    "    loaner_button.style.button_color = 'lightgray'\n",
    "\n",
    "\n",
    "owner_button = widgets.Button(description = 'Own Vehicle')   \n",
    "owner_button.on_click(owner_clicked)\n",
    "\n",
    "\n",
    "def loaner_clicked(arg):\n",
    "    global vehicle_ownership\n",
    "    vehicle_ownership = 0\n",
    "#     print(vehicle_ownership)\n",
    "#     print(\"lien button clicked!\")\n",
    "    \n",
    "    owner_button.style.button_color = 'lightgray'\n",
    "    loaner_button.style.button_color = 'lightgreen'\n",
    "\n",
    "\n",
    "loaner_button = widgets.Button(description = 'Lien on Vehicle')   \n",
    "loaner_button.on_click(loaner_clicked)\n",
    "\n",
    "# <------------------- Build vehicle year buttons ------------------->\n",
    "# Vehicle year\n",
    "# before 2015 = 0\n",
    "# after 2015 = 1\n",
    "\n",
    "vehicle_year = 1\n",
    "\n",
    "def before_2015_clicked(arg):\n",
    "    global vehicle_year\n",
    "    vehicle_year = 0\n",
    "#     print(vehicle_year)\n",
    "#     print(\"before 2015 selected\")\n",
    "    \n",
    "    before_2015_button.style.button_color = 'lightgreen'\n",
    "    after_2015_button.style.button_color = 'lightgray'\n",
    "\n",
    "\n",
    "before_2015_button = widgets.Button(description = 'Before 2015')   \n",
    "before_2015_button.on_click(before_2015_clicked)\n",
    "\n",
    "def after_2015_clicked(arg):\n",
    "    global vehicle_year\n",
    "    vehicle_year = 1\n",
    "#     print(vehicle_year)\n",
    "#     print(\"after 2015 selected\")\n",
    "    \n",
    "    before_2015_button.style.button_color = 'lightgray'\n",
    "    after_2015_button.style.button_color = 'lightgreen'\n",
    "\n",
    "\n",
    "after_2015_button = widgets.Button(description = 'After 2015')   \n",
    "after_2015_button.on_click(after_2015_clicked)\n",
    "\n",
    "# <------------------- Build marriage status buttons ------------------->\n",
    "# Married\n",
    "# Single = 0\n",
    "# Married = 1\n",
    "\n",
    "marriage_status = 1\n",
    "\n",
    "def single_clicked(arg):\n",
    "    global marriage_status\n",
    "    marriage_status = 0\n",
    "#     print(marriage_status)\n",
    "#     print(\"single selected\")\n",
    "    \n",
    "    single_button.style.button_color = 'lightgreen'\n",
    "    married_button.style.button_color = 'lightgray'\n",
    "\n",
    "single_button = widgets.Button(description = 'Single')   \n",
    "single_button.on_click(single_clicked)\n",
    "\n",
    "def married_clicked(arg):\n",
    "    global marriage_status\n",
    "    marriage_status = 1\n",
    "#     print(marriage_status)\n",
    "#     print(\"married selected\")\n",
    "    \n",
    "    single_button.style.button_color = 'lightgray'\n",
    "    married_button.style.button_color = 'lightgreen'\n",
    "\n",
    "\n",
    "married_button = widgets.Button(description = 'Married')   \n",
    "married_button.on_click(married_clicked)\n",
    "\n",
    "# <------------------- Build parent status buttons ------------------->\n",
    "# Children\n",
    "# No children = 0\n",
    "# Children = 1\n",
    "\n",
    "parent_status = 1\n",
    "\n",
    "def no_children_clicked(arg):\n",
    "    global parent_status\n",
    "    parent_status = 0\n",
    "#     print(parent_status)\n",
    "#     print(\"No children\")\n",
    "    \n",
    "    no_children_button.style.button_color = 'lightgreen'\n",
    "    has_children_button.style.button_color = 'lightgray'\n",
    "\n",
    "no_children_button = widgets.Button(description = 'No children')   \n",
    "no_children_button.on_click(no_children_clicked)\n",
    "\n",
    "def has_children_clicked(arg):\n",
    "    global parent_status\n",
    "    parent_status = 1\n",
    "#     print(parent_status)\n",
    "#     print(\"Has children\")\n",
    "    \n",
    "    no_children_button.style.button_color = 'lightgray'\n",
    "    has_children_button.style.button_color = 'lightgreen'\n",
    "\n",
    "\n",
    "has_children_button = widgets.Button(description = 'Has children')   \n",
    "has_children_button.on_click(has_children_clicked)\n",
    "\n",
    "# <------------------- Build customer state buttons ------------------->\n",
    "# State\n",
    "# 10238 = NY\n",
    "# 21217 = Maryland (MD)\n",
    "# 32765 = Florida\n",
    "# 97102 = Oregon\n",
    "\n",
    "customer_state_by_zip = 10238\n",
    "\n",
    "def state_NY_clicked(arg):\n",
    "    global customer_state_by_zip\n",
    "    customer_state_by_zip = 10238\n",
    "#     print(\"State: NY\")\n",
    "#     print(\"Zip: \" + str(customer_state_by_zip))\n",
    "    \n",
    "    NY_button.style.button_color = 'lightgreen'\n",
    "    MD_button.style.button_color = 'lightgray'\n",
    "    FL_button.style.button_color = 'lightgray'\n",
    "    OR_button.style.button_color = 'lightgray'\n",
    "\n",
    "\n",
    "NY_button = widgets.Button(description = 'New York')   \n",
    "NY_button.on_click(state_NY_clicked)\n",
    "\n",
    "def state_MD_clicked(arg):\n",
    "    global customer_state_by_zip\n",
    "    customer_state_by_zip = 21217\n",
    "#     print(\"State: MD\")\n",
    "#     print(\"Zip: \" + str(customer_state_by_zip))\n",
    "    \n",
    "    NY_button.style.button_color = 'lightgray'\n",
    "    MD_button.style.button_color = 'lightgreen'\n",
    "    FL_button.style.button_color = 'lightgray'\n",
    "    OR_button.style.button_color = 'lightgray'\n",
    "\n",
    "MD_button = widgets.Button(description = 'Maryland')   \n",
    "MD_button.on_click(state_MD_clicked)\n",
    "\n",
    "def state_FL_clicked(arg):\n",
    "    global customer_state_by_zip\n",
    "    customer_state_by_zip = 32765\n",
    "#     print(\"State: FL\")\n",
    "#     print(\"Zip: \" + str(customer_state_by_zip))\n",
    "    \n",
    "    NY_button.style.button_color = 'lightgray'\n",
    "    MD_button.style.button_color = 'lightgray'\n",
    "    FL_button.style.button_color = 'lightgreen'\n",
    "    OR_button.style.button_color = 'lightgray'\n",
    "\n",
    "FL_button = widgets.Button(description = 'Florida')   \n",
    "FL_button.on_click(state_FL_clicked)\n",
    "\n",
    "def state_OR_clicked(arg):\n",
    "    global customer_state_by_zip\n",
    "    customer_state_by_zip = 97102\n",
    "#     print(\"State: OR\")\n",
    "#     print(\"Zip: \" + str(customer_state_by_zip))\n",
    "    \n",
    "    NY_button.style.button_color = 'lightgray'\n",
    "    MD_button.style.button_color = 'lightgray'\n",
    "    FL_button.style.button_color = 'lightgray'\n",
    "    OR_button.style.button_color = 'lightgreen'\n",
    "\n",
    "OR_button = widgets.Button(description = 'Oregon')   \n",
    "OR_button.on_click(state_OR_clicked)\n",
    "\n",
    "# <------------------- Build annual mileage selection box ------------------->\n",
    "# Annual mileage\n",
    "# ranging from 2000 to 22000\n",
    "\n",
    "annual_mileage = 10000\n",
    "\n",
    "annual_mileage_box = widgets.BoundedIntText(\n",
    "    value=10000,\n",
    "    min=2000,\n",
    "    max=25000,\n",
    "    step=1,\n",
    "    description=\"Annual miles:\",\n",
    "    disabled=False\n",
    ")\n",
    "\n",
    "def on_annual_mileage_box_change(b):\n",
    "    global annual_mileage\n",
    "    annual_mileage = int(annual_mileage_box.value)\n",
    "#     print(annual_mileage)\n",
    "\n",
    "annual_mileage_box.on_trait_change(on_annual_mileage_box_change)\n",
    "\n",
    "\n",
    "# <------------------- Build vehicle type buttons ------------------->\n",
    "# Vehicle type\n",
    "# sedan = 0\n",
    "# sports car = 1\n",
    "\n",
    "vehicle_type = 0\n",
    "\n",
    "def sedan_clicked(arg):\n",
    "    global vehicle_type\n",
    "    vehicle_type = 0\n",
    "#     print(vehicle_type)\n",
    "#     print(\"Sedan selected\")\n",
    "    \n",
    "    sedan_button.style.button_color = 'lightgreen'\n",
    "    sports_car_button.style.button_color = 'lightgray'\n",
    "\n",
    "sedan_button = widgets.Button(description = 'Sedan')   \n",
    "sedan_button.on_click(sedan_clicked)\n",
    "\n",
    "def sports_car_clicked(arg):\n",
    "    global vehicle_type\n",
    "    vehicle_type = 1\n",
    "#     print(vehicle_type)\n",
    "#     print(\"Sports car selected\")\n",
    "    \n",
    "    sedan_button.style.button_color = 'lightgray'\n",
    "    sports_car_button.style.button_color = 'lightgreen'\n",
    "\n",
    "sports_car_button = widgets.Button(description = 'Sports Car')   \n",
    "sports_car_button.on_click(sports_car_clicked)\n",
    "\n",
    "# <------------------- Build speeding violations box ------------------->\n",
    "# Speeding violations\n",
    "# ranging from 0 to 25\n",
    "\n",
    "speeding_violations = 0\n",
    "\n",
    "speeding_violations_box = widgets.BoundedIntText(\n",
    "    value=0,\n",
    "    min=0,\n",
    "    max=25,\n",
    "    step=1,\n",
    "    disabled=False\n",
    ")\n",
    "\n",
    "def on_speeding_violations_change(b):\n",
    "    global speeding_violations\n",
    "    speeding_violations = int(speeding_violations_box.value)\n",
    "#     print(speeding_violations)\n",
    "\n",
    "speeding_violations_box.on_trait_change(on_speeding_violations_change)\n",
    "\n",
    "# <------------------- Build DUI arrests box ------------------->\n",
    "# DUII arrests\n",
    "# ranging from 0 to 10\n",
    "\n",
    "DUI_arrests = 0\n",
    "\n",
    "DUII_box = widgets.BoundedIntText(\n",
    "    value=0,\n",
    "    min=0,\n",
    "    max=10,\n",
    "    step=1,\n",
    "    disabled=False\n",
    ")\n",
    "\n",
    "def on_DUII_box_change(b):\n",
    "    global DUI_arrests\n",
    "    DUI_arrests = int(DUII_box.value)\n",
    "#     print(DUI_arrests)\n",
    "\n",
    "DUII_box.on_trait_change(on_DUII_box_change)\n",
    "\n",
    "\n",
    "# <------------------- Build DUI arrests box ------------------->\n",
    "# Past accidents\n",
    "# ranging from 0 to 20\n",
    "\n",
    "past_accidents = 0\n",
    "\n",
    "past_accidents_box = widgets.BoundedIntText(\n",
    "    value=0,\n",
    "    min=0,\n",
    "    max=20,\n",
    "    step=1,\n",
    "    disabled=False\n",
    ")\n",
    "\n",
    "def on_past_accidents_box_change(b):\n",
    "    global past_accidents\n",
    "    past_accidents = int(past_accidents_box.value)\n",
    "#     print(past_accidents)\n",
    "\n",
    "past_accidents_box.on_trait_change(on_past_accidents_box_change)\n",
    "\n",
    "\n",
    "# <------------------- Build \"Predict Risk Level\" box ------------------->\n",
    "\n",
    "customer_risk_level = 0\n",
    "def predict_clicked(arg):\n",
    "    global customer_risk_level\n",
    "    test_driver = np.array([age, gender, driving_experience, education_level, income_level, credit_score, \n",
    "                        vehicle_ownership, vehicle_year, marriage_status, parent_status, customer_state_by_zip, \n",
    "                        annual_mileage, vehicle_type, speeding_violations, DUI_arrests, past_accidents])\n",
    "    test_driver = test_driver.reshape(1, -1)\n",
    "#     manual_test = clf.predict(test_driver)\n",
    "    clf.predict_proba(test_driver)\n",
    "    risk_score = clf.predict_proba(test_driver)[0][1] * 100\n",
    "    print(f\"This driver has a predicted risk level of {risk_score:.1f}%\")\n",
    "    print(\"(0 represents a low-risk driver. 100 represents a high-risk driver.)\")\n",
    "    print(\"\")\n",
    "\n",
    "predict_risk_button = widgets.Button(description = 'Predict Risk Level')   \n",
    "predict_risk_button.style.button_color = 'lightblue'\n",
    "predict_risk_button.on_click(predict_clicked)\n"
   ]
  },
  {
   "cell_type": "markdown",
   "id": "08a0f192",
   "metadata": {},
   "source": [
    "# Interactable User Interface (see below code block)\n",
    "<a id='show_UI'></a>"
   ]
  },
  {
   "cell_type": "code",
   "execution_count": 31,
   "id": "f32f0661",
   "metadata": {},
   "outputs": [
    {
     "name": "stdout",
     "output_type": "stream",
     "text": [
      "\n",
      "-------------------------------\n",
      "Please select customer features:\n",
      "-------------------------------\n",
      "\n"
     ]
    },
    {
     "data": {
      "application/vnd.jupyter.widget-view+json": {
       "model_id": "58ce2cc9543a401ebe47b7334a2f49c7",
       "version_major": 2,
       "version_minor": 0
      },
      "text/plain": [
       "BoundedIntText(value=35, description='Age:', min=16)"
      ]
     },
     "metadata": {},
     "output_type": "display_data"
    },
    {
     "data": {
      "application/vnd.jupyter.widget-view+json": {
       "model_id": "77a5c0e2b7f94a9da1fb17adaa2d1635",
       "version_major": 2,
       "version_minor": 0
      },
      "text/plain": [
       "HBox(children=(Label(value='Gender:'), Button(description='Male', style=ButtonStyle()), Button(description='Fe…"
      ]
     },
     "metadata": {},
     "output_type": "display_data"
    },
    {
     "data": {
      "application/vnd.jupyter.widget-view+json": {
       "model_id": "dbe920ceb67c4f3284ab1730c98bfada",
       "version_major": 2,
       "version_minor": 0
      },
      "text/plain": [
       "HBox(children=(Label(value='Driving Experience:'), Button(description='0-9 yrs', style=ButtonStyle()), Button(…"
      ]
     },
     "metadata": {},
     "output_type": "display_data"
    },
    {
     "data": {
      "application/vnd.jupyter.widget-view+json": {
       "model_id": "00f46e4ff92a448aa89c949dd9ff3f8e",
       "version_major": 2,
       "version_minor": 0
      },
      "text/plain": [
       "HBox(children=(Label(value='Education Level:'), Button(description='None', style=ButtonStyle()), Button(descri…"
      ]
     },
     "metadata": {},
     "output_type": "display_data"
    },
    {
     "data": {
      "application/vnd.jupyter.widget-view+json": {
       "model_id": "2bd07a166de745719790f7cce8539747",
       "version_major": 2,
       "version_minor": 0
      },
      "text/plain": [
       "HBox(children=(Label(value='Income Level:'), Button(description='Poverty', style=ButtonStyle()), Button(descri…"
      ]
     },
     "metadata": {},
     "output_type": "display_data"
    },
    {
     "data": {
      "application/vnd.jupyter.widget-view+json": {
       "model_id": "c4df190831b54bfba7d363dd0d65b9da",
       "version_major": 2,
       "version_minor": 0
      },
      "text/plain": [
       "BoundedIntText(value=800, description='Credit score:', max=850, min=300)"
      ]
     },
     "metadata": {},
     "output_type": "display_data"
    },
    {
     "data": {
      "application/vnd.jupyter.widget-view+json": {
       "model_id": "9ca800d1dae84b3892f9da4e96a18602",
       "version_major": 2,
       "version_minor": 0
      },
      "text/plain": [
       "HBox(children=(Label(value='Vehicle Ownership:'), Button(description='Own Vehicle', style=ButtonStyle()), Butt…"
      ]
     },
     "metadata": {},
     "output_type": "display_data"
    },
    {
     "data": {
      "application/vnd.jupyter.widget-view+json": {
       "model_id": "e72433f78b5b486188c5b556fbeec973",
       "version_major": 2,
       "version_minor": 0
      },
      "text/plain": [
       "HBox(children=(Label(value='Vehicle Year:'), Button(description='Before 2015', style=ButtonStyle()), Button(de…"
      ]
     },
     "metadata": {},
     "output_type": "display_data"
    },
    {
     "data": {
      "application/vnd.jupyter.widget-view+json": {
       "model_id": "4f163ee2976b48f5929bc665022362f0",
       "version_major": 2,
       "version_minor": 0
      },
      "text/plain": [
       "HBox(children=(Label(value='Marriage Status:'), Button(description='Single', style=ButtonStyle()), Button(desc…"
      ]
     },
     "metadata": {},
     "output_type": "display_data"
    },
    {
     "data": {
      "application/vnd.jupyter.widget-view+json": {
       "model_id": "2194afa6d8d54f5d87f079ad7c62437e",
       "version_major": 2,
       "version_minor": 0
      },
      "text/plain": [
       "HBox(children=(Label(value='Parental Status:'), Button(description='No children', style=ButtonStyle()), Button…"
      ]
     },
     "metadata": {},
     "output_type": "display_data"
    },
    {
     "data": {
      "application/vnd.jupyter.widget-view+json": {
       "model_id": "10256213e47b4ce5956744cb9100d37e",
       "version_major": 2,
       "version_minor": 0
      },
      "text/plain": [
       "HBox(children=(Label(value='State of Residence:'), Button(description='New York', style=ButtonStyle()), Button…"
      ]
     },
     "metadata": {},
     "output_type": "display_data"
    },
    {
     "data": {
      "application/vnd.jupyter.widget-view+json": {
       "model_id": "414151c872e14676a1972bf6d66196aa",
       "version_major": 2,
       "version_minor": 0
      },
      "text/plain": [
       "BoundedIntText(value=10000, description='Annual miles:', max=25000, min=2000)"
      ]
     },
     "metadata": {},
     "output_type": "display_data"
    },
    {
     "data": {
      "application/vnd.jupyter.widget-view+json": {
       "model_id": "747a7e30a0254e6a87459433fa75d7b1",
       "version_major": 2,
       "version_minor": 0
      },
      "text/plain": [
       "HBox(children=(Label(value='Vehicle Type:'), Button(description='Sedan', style=ButtonStyle()), Button(descript…"
      ]
     },
     "metadata": {},
     "output_type": "display_data"
    },
    {
     "data": {
      "application/vnd.jupyter.widget-view+json": {
       "model_id": "10759906fd2b4560b2a675984d783a3d",
       "version_major": 2,
       "version_minor": 0
      },
      "text/plain": [
       "HBox(children=(Label(value='Speeding Violations:'), BoundedIntText(value=0, max=25)))"
      ]
     },
     "metadata": {},
     "output_type": "display_data"
    },
    {
     "data": {
      "application/vnd.jupyter.widget-view+json": {
       "model_id": "3bf95da852c145dba9d4d21949dcf542",
       "version_major": 2,
       "version_minor": 0
      },
      "text/plain": [
       "HBox(children=(Label(value='DUI Arrests:'), BoundedIntText(value=0, max=10)))"
      ]
     },
     "metadata": {},
     "output_type": "display_data"
    },
    {
     "data": {
      "application/vnd.jupyter.widget-view+json": {
       "model_id": "4d06248e3bec4894af4c7c13062aee3d",
       "version_major": 2,
       "version_minor": 0
      },
      "text/plain": [
       "HBox(children=(Label(value='Past Accidents:'), BoundedIntText(value=0, max=20)))"
      ]
     },
     "metadata": {},
     "output_type": "display_data"
    },
    {
     "data": {
      "application/vnd.jupyter.widget-view+json": {
       "model_id": "67eaaa31a8ec44a3a2d84589d68ae6c5",
       "version_major": 2,
       "version_minor": 0
      },
      "text/plain": [
       "HBox(children=(Button(description='Predict Risk Level', style=ButtonStyle(button_color='lightblue')),))"
      ]
     },
     "metadata": {},
     "output_type": "display_data"
    }
   ],
   "source": [
    "print(\"\")\n",
    "print(\"-------------------------------\")\n",
    "print(\"Please select customer features:\")\n",
    "print(\"-------------------------------\")\n",
    "print(\"\")\n",
    "\n",
    "# <------------------- Displayed the Boxes/Buttons ------------------->\n",
    "# Age\n",
    "display(age_box)\n",
    "# Gender\n",
    "gender_buttons = widgets.HBox([Label('Gender:'), male_button, female_button])\n",
    "display(gender_buttons)\n",
    "# Driving experience\n",
    "driving_experience_buttons = widgets.HBox([Label('Driving Experience:'), zero_to_nine_button, ten_to_nineteen_button, twenty_to_twentynine_button, thirty_plus_button])\n",
    "display(driving_experience_buttons)\n",
    "# Education level\n",
    "education_buttons = widgets.HBox([Label('Education Level:'), uneducated_button, high_school_button, university_button])\n",
    "display(education_buttons)\n",
    "# Income level\n",
    "income_buttons = widgets.HBox([Label('Income Level:'),poverty_button, working_class_button, middle_class_button, upper_class_button])\n",
    "display(income_buttons)\n",
    "# Credit score\n",
    "display(credit_score_box)\n",
    "# Vehicle ownership\n",
    "vehicle_ownership_buttons = widgets.HBox([Label('Vehicle Ownership:'),owner_button, loaner_button])\n",
    "display(vehicle_ownership_buttons)\n",
    "# Vehicle year\n",
    "vehicle_year_buttons = widgets.HBox([Label('Vehicle Year:'),before_2015_button, after_2015_button])\n",
    "display(vehicle_year_buttons)\n",
    "# Marriage status\n",
    "marriage_status_buttons = widgets.HBox([Label('Marriage Status:'), single_button, married_button])\n",
    "display(marriage_status_buttons)\n",
    "# Parent status\n",
    "parental_status_buttons = widgets.HBox([Label('Parental Status:'), no_children_button, has_children_button])\n",
    "display(parental_status_buttons)\n",
    "# Customer state of residence\n",
    "state_buttons = widgets.HBox([Label('State of Residence:'), NY_button, FL_button, OR_button, MD_button,])\n",
    "display(state_buttons)\n",
    "# Annual mileage\n",
    "display(annual_mileage_box)\n",
    "# Vehicle type\n",
    "vehicle_type_buttons = widgets.HBox([Label('Vehicle Type:'), sedan_button, sports_car_button])\n",
    "display(vehicle_type_buttons)\n",
    "# Speed violations\n",
    "speed_violation_buttons = widgets.HBox([Label(\"Speeding Violations:\"), speeding_violations_box])\n",
    "display(speed_violation_buttons)\n",
    "# DUI arrests\n",
    "DUI_arrest_boxes = widgets.HBox([Label(\"DUI Arrests:\"), DUII_box])\n",
    "display(DUI_arrest_boxes)\n",
    "# Past accidents\n",
    "past_accident_boxes = widgets.HBox([Label(\"Past Accidents:\"), past_accidents_box])\n",
    "display(past_accident_boxes)\n",
    "# Predict risk level\n",
    "risk_level_boxes = widgets.HBox([predict_risk_button])\n",
    "display(risk_level_boxes)"
   ]
  },
  {
   "cell_type": "code",
   "execution_count": null,
   "id": "f9636f08",
   "metadata": {},
   "outputs": [],
   "source": []
  }
 ],
 "metadata": {
  "kernelspec": {
   "display_name": "Python 3",
   "language": "python",
   "name": "python3"
  },
  "language_info": {
   "codemirror_mode": {
    "name": "ipython",
    "version": 3
   },
   "file_extension": ".py",
   "mimetype": "text/x-python",
   "name": "python",
   "nbconvert_exporter": "python",
   "pygments_lexer": "ipython3",
   "version": "3.9.5"
  }
 },
 "nbformat": 4,
 "nbformat_minor": 5
}
